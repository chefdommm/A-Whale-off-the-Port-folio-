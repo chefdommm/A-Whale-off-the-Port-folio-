{
 "cells": [
  {
   "cell_type": "code",
   "execution_count": 1,
   "id": "918affc6-f4ad-4447-bd03-90704a4716d6",
   "metadata": {},
   "outputs": [],
   "source": [
    "# Reading data from 1st stock"
   ]
  },
  {
   "cell_type": "code",
   "execution_count": 2,
   "id": "af19b08f-af13-456f-8d5f-3b32bc4095cd",
   "metadata": {},
   "outputs": [],
   "source": [
    "# Reading data from 2nd stock"
   ]
  },
  {
   "cell_type": "code",
   "execution_count": 3,
   "id": "7c29e4c9-e778-4f19-840d-f86d56428676",
   "metadata": {},
   "outputs": [],
   "source": [
    "# Reading data from 3rd stock"
   ]
  },
  {
   "cell_type": "code",
   "execution_count": 4,
   "id": "d32cb0a2-ddce-4bdc-ab16-849ba4f3b904",
   "metadata": {},
   "outputs": [],
   "source": [
    "# Combine all stocks in a single DataFrame"
   ]
  },
  {
   "cell_type": "code",
   "execution_count": 5,
   "id": "c0585eaa-699e-4d73-b099-d695b03e2e34",
   "metadata": {},
   "outputs": [],
   "source": [
    "# Reset Date index"
   ]
  },
  {
   "cell_type": "code",
   "execution_count": 6,
   "id": "d2127442-375f-46e3-86e8-dc321ecf5b17",
   "metadata": {},
   "outputs": [],
   "source": [
    "# Reorganize portfolio data by having a column per symbol"
   ]
  },
  {
   "cell_type": "code",
   "execution_count": 7,
   "id": "c7c6d27e-fb20-4711-b9c2-1172f58bf45d",
   "metadata": {},
   "outputs": [],
   "source": [
    "# Calculate daily returns\n",
    "\n",
    "# Drop NAs\n",
    "\n",
    "# Display sample data"
   ]
  },
  {
   "cell_type": "code",
   "execution_count": 8,
   "id": "cfc5b4b7-7381-4f54-ba2f-dbd53cf968d0",
   "metadata": {},
   "outputs": [],
   "source": [
    "# Set weights\n",
    "weights = [1/3, 1/3, 1/3]\n",
    "\n",
    "# Calculate portfolio return\n",
    "\n",
    "# Display sample data"
   ]
  },
  {
   "cell_type": "code",
   "execution_count": 9,
   "id": "2f172ce6-2751-4054-b430-339fc491b4ac",
   "metadata": {},
   "outputs": [],
   "source": [
    " # Join your returns DataFrame to the original returns DataFrame"
   ]
  },
  {
   "cell_type": "code",
   "execution_count": 10,
   "id": "ee55a8f5-e83f-4f33-935e-7d866f9e27e8",
   "metadata": {},
   "outputs": [],
   "source": [
    "# Only compare dates where return data exists for all the stocks (drop NaNs)"
   ]
  },
  {
   "cell_type": "code",
   "execution_count": 11,
   "id": "9ef64664-feec-47b0-ae4a-a59e60df731a",
   "metadata": {},
   "outputs": [],
   "source": [
    "# Calculate the annualized `std`"
   ]
  },
  {
   "cell_type": "code",
   "execution_count": 12,
   "id": "f0e4ddde-2cda-4241-91ae-7b9f28afed32",
   "metadata": {},
   "outputs": [],
   "source": [
    "# Calculate rolling standard deviation\n",
    "\n",
    "# Plot rolling standard deviation"
   ]
  },
  {
   "cell_type": "code",
   "execution_count": 13,
   "id": "27742ee7-8afe-4208-a7b3-25aaf1f0bde5",
   "metadata": {},
   "outputs": [],
   "source": [
    "# Calculate and plot the correlation"
   ]
  },
  {
   "cell_type": "code",
   "execution_count": 14,
   "id": "872067fa-d124-40a5-9bec-02276e096541",
   "metadata": {},
   "outputs": [],
   "source": [
    "# Calculate and plot Beta"
   ]
  },
  {
   "cell_type": "code",
   "execution_count": 15,
   "id": "37a9dc1f-ff1f-4100-aa80-60f7b0407a57",
   "metadata": {},
   "outputs": [],
   "source": [
    "# Calculate Annualized Sharpe Ratios"
   ]
  },
  {
   "cell_type": "code",
   "execution_count": 16,
   "id": "6e0fdf9c-f2f7-47a0-99ce-8128d2049627",
   "metadata": {},
   "outputs": [],
   "source": [
    "# Visualize the sharpe ratios as a bar plot"
   ]
  },
  {
   "cell_type": "code",
   "execution_count": null,
   "id": "c11e30b3-4bdf-47e6-976c-71e9a53f0c6c",
   "metadata": {},
   "outputs": [],
   "source": [
    "# how does portfolio do"
   ]
  }
 ],
 "metadata": {
  "kernelspec": {
   "display_name": "Python 3 (ipykernel)",
   "language": "python",
   "name": "python3"
  },
  "language_info": {
   "codemirror_mode": {
    "name": "ipython",
    "version": 3
   },
   "file_extension": ".py",
   "mimetype": "text/x-python",
   "name": "python",
   "nbconvert_exporter": "python",
   "pygments_lexer": "ipython3",
   "version": "3.9.12"
  }
 },
 "nbformat": 4,
 "nbformat_minor": 5
}
