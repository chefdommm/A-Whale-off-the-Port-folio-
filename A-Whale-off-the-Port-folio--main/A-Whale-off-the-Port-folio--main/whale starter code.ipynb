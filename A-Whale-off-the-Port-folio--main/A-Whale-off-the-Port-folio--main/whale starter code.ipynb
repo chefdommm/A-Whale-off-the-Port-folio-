{
 "cells": [
  {
   "cell_type": "code",
   "execution_count": 1,
   "id": "651fcacf-b6ba-4126-b065-bdbdf1802b1e",
   "metadata": {},
   "outputs": [],
   "source": [
    "# Initial imports\n",
    "import pandas as pd\n",
    "import numpy as np\n",
    "import datetime as dt\n",
    "from pathlib import Path\n",
    "\n",
    "%matplotlib inline"
   ]
  },
  {
   "cell_type": "code",
   "execution_count": 2,
   "id": "2ecf9110-3d95-418c-bba9-f2ea1265075c",
   "metadata": {},
   "outputs": [],
   "source": [
    "# Reading whale returns"
   ]
  },
  {
   "cell_type": "code",
   "execution_count": 3,
   "id": "9cda96bf-f53b-4768-b617-14b55bedf784",
   "metadata": {},
   "outputs": [],
   "source": [
    "# Count nulls"
   ]
  },
  {
   "cell_type": "code",
   "execution_count": 4,
   "id": "6f73adbb-78ba-420c-afd0-768a57222e3d",
   "metadata": {},
   "outputs": [],
   "source": [
    "# Drop nulls"
   ]
  },
  {
   "cell_type": "code",
   "execution_count": 5,
   "id": "647c5891-b36a-497a-85d3-5f57104080f2",
   "metadata": {},
   "outputs": [],
   "source": [
    "# Reading algorithmic returns"
   ]
  },
  {
   "cell_type": "code",
   "execution_count": 6,
   "id": "37eef5ec-67bb-45fb-ace7-48355254abd2",
   "metadata": {},
   "outputs": [],
   "source": [
    "# Count nulls"
   ]
  },
  {
   "cell_type": "code",
   "execution_count": 7,
   "id": "9de8b9e6-035f-4fba-b2cb-6e5e70ac1354",
   "metadata": {},
   "outputs": [],
   "source": [
    "# Drop nulls"
   ]
  },
  {
   "cell_type": "code",
   "execution_count": 8,
   "id": "f4cd9749-79b6-44ba-93f6-7b51d13fec60",
   "metadata": {},
   "outputs": [],
   "source": [
    "# Reading S&P TSX 60 Closing Prices"
   ]
  },
  {
   "cell_type": "code",
   "execution_count": 9,
   "id": "29d8b7a8-1039-4d70-8f43-069d1da29268",
   "metadata": {},
   "outputs": [],
   "source": [
    "# Check Data Types"
   ]
  },
  {
   "cell_type": "code",
   "execution_count": 10,
   "id": "541902c4-908f-4deb-98ca-ef95e24b11dd",
   "metadata": {},
   "outputs": [],
   "source": [
    "# Fix Data Types"
   ]
  },
  {
   "cell_type": "code",
   "execution_count": 11,
   "id": "a5c89f35-431a-448d-9bc1-c34935abbec7",
   "metadata": {},
   "outputs": [],
   "source": [
    "# Calculate Daily Returns"
   ]
  },
  {
   "cell_type": "code",
   "execution_count": 12,
   "id": "71b06064-ef69-48eb-b9cf-e253b633fa9f",
   "metadata": {},
   "outputs": [],
   "source": [
    "# Drop nulls"
   ]
  },
  {
   "cell_type": "code",
   "execution_count": 13,
   "id": "e8f8531e-92fa-4541-9fad-fef57b01ee20",
   "metadata": {},
   "outputs": [],
   "source": [
    "# Rename `Close` Column to be specific to this portfolio."
   ]
  },
  {
   "cell_type": "code",
   "execution_count": 14,
   "id": "e139f8b7-911c-498b-bf40-37aac4bbe79f",
   "metadata": {},
   "outputs": [],
   "source": [
    "# Join Whale Returns, Algorithmic Returns, and the S&P TSX 60 Returns into a single DataFrame with columns for each portfolio's returns."
   ]
  },
  {
   "cell_type": "code",
   "execution_count": 15,
   "id": "89017980-10bd-498f-b44b-11112600915f",
   "metadata": {},
   "outputs": [],
   "source": [
    "# Plot daily returns of all portfolios"
   ]
  },
  {
   "cell_type": "code",
   "execution_count": 16,
   "id": "eda9de5d-4f47-49d2-988d-aa7334aaf62c",
   "metadata": {},
   "outputs": [],
   "source": [
    "# Calculate cumulative returns of all portfolios\n",
    "\n",
    "# Plot cumulative returns"
   ]
  },
  {
   "cell_type": "code",
   "execution_count": 17,
   "id": "89f0c838-e971-469c-bd2d-a36e545af4e7",
   "metadata": {},
   "outputs": [],
   "source": [
    "# Box plot to visually show risk"
   ]
  },
  {
   "cell_type": "code",
   "execution_count": 18,
   "id": "7364e4dd-4cc1-4dee-aa6b-c9498297bb9c",
   "metadata": {},
   "outputs": [],
   "source": [
    "# Calculate the daily standard deviations of all portfolios"
   ]
  },
  {
   "cell_type": "code",
   "execution_count": 19,
   "id": "637143cd-8846-413c-81ab-a0e477466123",
   "metadata": {},
   "outputs": [],
   "source": [
    "# Calculate  the daily standard deviation of S&P TSX 60\n",
    "\n",
    "# Determine which portfolios are riskier than the S&P TSX 60"
   ]
  },
  {
   "cell_type": "code",
   "execution_count": 20,
   "id": "942010d2-c999-44c4-a1d2-bc5a860154f1",
   "metadata": {},
   "outputs": [],
   "source": [
    "# Calculate the annualized standard deviation (252 trading days)"
   ]
  },
  {
   "cell_type": "code",
   "execution_count": 21,
   "id": "b3dcb0ff-1e74-41d9-bdac-2b15e6591351",
   "metadata": {},
   "outputs": [],
   "source": [
    "# Calculate the rolling standard deviation for all portfolios using a 21-day window\n",
    "\n",
    "# Plot the rolling standard deviation"
   ]
  },
  {
   "cell_type": "code",
   "execution_count": 22,
   "id": "0db6544a-6de7-4757-a4f5-0418ff20023a",
   "metadata": {},
   "outputs": [],
   "source": [
    "# Calculate the correlation\n",
    "\n",
    "# Display de correlation matrix"
   ]
  },
  {
   "cell_type": "code",
   "execution_count": 23,
   "id": "d9e5b3ab-3bbb-4384-8282-3f0f8ef79e4d",
   "metadata": {},
   "outputs": [],
   "source": [
    "# Calculate covariance of a single portfolio\n",
    "\n",
    "# Calculate variance of S&P TSX\n",
    "\n",
    "# Computing beta\n",
    "\n",
    "# Plot beta trend"
   ]
  },
  {
   "cell_type": "code",
   "execution_count": 24,
   "id": "23d3da08-6ef0-4d84-9633-65ad63ed8d9c",
   "metadata": {},
   "outputs": [],
   "source": [
    "# Use `ewm` to calculate the rolling window 21 day1/2 life"
   ]
  },
  {
   "cell_type": "code",
   "execution_count": 25,
   "id": "48b0eb4b-0a9f-49f6-a63a-23c62e187e0f",
   "metadata": {},
   "outputs": [],
   "source": [
    "# Annualized Sharpe Ratios"
   ]
  },
  {
   "cell_type": "code",
   "execution_count": null,
   "id": "524d7f98-cdb9-4222-9937-c4cba4367e1a",
   "metadata": {},
   "outputs": [],
   "source": [
    "# Visualize the sharpe ratios as a bar plot"
   ]
  }
 ],
 "metadata": {
  "kernelspec": {
   "display_name": "Python 3 (ipykernel)",
   "language": "python",
   "name": "python3"
  },
  "language_info": {
   "codemirror_mode": {
    "name": "ipython",
    "version": 3
   },
   "file_extension": ".py",
   "mimetype": "text/x-python",
   "name": "python",
   "nbconvert_exporter": "python",
   "pygments_lexer": "ipython3",
   "version": "3.9.12"
  }
 },
 "nbformat": 4,
 "nbformat_minor": 5
}
